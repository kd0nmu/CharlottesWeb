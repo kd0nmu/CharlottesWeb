{
 "cells": [
  {
   "cell_type": "markdown",
   "id": "9deba202-54a1-4864-b435-00511e23cbc7",
   "metadata": {},
   "source": [
    "# Collatz Sequences"
   ]
  },
  {
   "cell_type": "markdown",
   "id": "4f8dff33-ee4c-4be3-9c3c-9a0d9ec4b2bf",
   "metadata": {},
   "source": [
    " After seeing a you-tube video about Collatz Sequences, I decided it would be a fun project for coding practice. There are a number of concepts to pull together in this project:\n",
    "     Python programming- generators, scripting\n",
    "     General Programming- file directories, environments, packages\n",
    "     Graph (network) rendering\n",
    "     Using Jupyter Lab to document my progress"
   ]
  },
  {
   "cell_type": "markdown",
   "id": "804e889f-c239-411d-b7d2-f8ad09764c70",
   "metadata": {},
   "source": [
    "I have written a script in python for calculation of collatz sets; Collatz.py\n",
    "This script uses the numpy library, so numpy package must be installed in the environment before importing Collatz"
   ]
  },
  {
   "cell_type": "code",
   "execution_count": 1,
   "id": "ed04003e-f003-407d-abe5-789264df3b7d",
   "metadata": {
    "tags": []
   },
   "outputs": [],
   "source": [
    "import numpy\n",
    "import Collatz"
   ]
  },
  {
   "cell_type": "markdown",
   "id": "defd8aac-b8ca-4b4a-9914-a41901165d68",
   "metadata": {},
   "source": [
    "THere is a known loop in the collatz sequences 4,2,1,4,2,1.... so the function which generates the collatz sequence must check if the result has reached 1. The function also checks the list of known solutions to discover if the current input has alread been solved."
   ]
  },
  {
   "cell_type": "code",
   "execution_count": 2,
   "id": "dbf39a20-0c48-4ec7-b56a-3ac924687c69",
   "metadata": {},
   "outputs": [
    {
     "data": {
      "text/plain": [
       "\u001b[1;31mSignature:\u001b[0m \u001b[0mCollatz\u001b[0m\u001b[1;33m.\u001b[0m\u001b[0mcolSeq\u001b[0m\u001b[1;33m(\u001b[0m\u001b[0mn\u001b[0m\u001b[1;33m,\u001b[0m \u001b[0mx\u001b[0m\u001b[1;33m=\u001b[0m\u001b[1;36m3\u001b[0m\u001b[1;33m,\u001b[0m \u001b[0mc\u001b[0m\u001b[1;33m=\u001b[0m\u001b[1;36m1\u001b[0m\u001b[1;33m)\u001b[0m\u001b[1;33m\u001b[0m\u001b[1;33m\u001b[0m\u001b[0m\n",
       "\u001b[1;31mSource:\u001b[0m   \n",
       "\u001b[1;32mdef\u001b[0m \u001b[0mcolSeq\u001b[0m\u001b[1;33m(\u001b[0m\u001b[0mn\u001b[0m\u001b[1;33m,\u001b[0m \u001b[0mx\u001b[0m\u001b[1;33m=\u001b[0m\u001b[1;36m3\u001b[0m\u001b[1;33m,\u001b[0m \u001b[0mc\u001b[0m\u001b[1;33m=\u001b[0m\u001b[1;36m1\u001b[0m\u001b[1;33m)\u001b[0m\u001b[1;33m:\u001b[0m\u001b[1;33m\n",
       "\u001b[0m    \u001b[1;34m'''generates a list of the numbers in the Collatz sequence starting at n'''\u001b[0m\u001b[1;33m\n",
       "\u001b[0m    \u001b[0msequence\u001b[0m \u001b[1;33m=\u001b[0m \u001b[1;33m[\u001b[0m\u001b[1;33m]\u001b[0m\u001b[1;33m\n",
       "\u001b[0m    \u001b[1;32mwhile\u001b[0m \u001b[0mn\u001b[0m \u001b[1;33m!=\u001b[0m \u001b[1;36m1\u001b[0m \u001b[1;32mand\u001b[0m \u001b[1;33m(\u001b[0m\u001b[0min_true_set\u001b[0m\u001b[1;33m(\u001b[0m\u001b[0mn\u001b[0m\u001b[1;33m)\u001b[0m \u001b[1;33m==\u001b[0m \u001b[1;32mFalse\u001b[0m\u001b[1;33m)\u001b[0m\u001b[1;33m:\u001b[0m\u001b[1;33m\n",
       "\u001b[0m        \u001b[0msequence\u001b[0m\u001b[1;33m.\u001b[0m\u001b[0mappend\u001b[0m\u001b[1;33m(\u001b[0m\u001b[0mint\u001b[0m\u001b[1;33m(\u001b[0m\u001b[0mn\u001b[0m\u001b[1;33m)\u001b[0m\u001b[1;33m)\u001b[0m\u001b[1;33m\n",
       "\u001b[0m        \u001b[0mset_of_true\u001b[0m\u001b[1;33m.\u001b[0m\u001b[0mappend\u001b[0m\u001b[1;33m(\u001b[0m\u001b[0mint\u001b[0m\u001b[1;33m(\u001b[0m\u001b[0mn\u001b[0m\u001b[1;33m)\u001b[0m\u001b[1;33m)\u001b[0m\u001b[1;33m\n",
       "\u001b[0m        \u001b[0mn\u001b[0m \u001b[1;33m=\u001b[0m \u001b[0mcol\u001b[0m\u001b[1;33m(\u001b[0m\u001b[0mn\u001b[0m\u001b[1;33m,\u001b[0m \u001b[0mx\u001b[0m\u001b[1;33m,\u001b[0m \u001b[0mc\u001b[0m\u001b[1;33m)\u001b[0m \u001b[1;31m#finds the next value of n in the collatz sequence\u001b[0m\u001b[1;33m\n",
       "\u001b[0m    \u001b[0msequence\u001b[0m\u001b[1;33m.\u001b[0m\u001b[0mappend\u001b[0m\u001b[1;33m(\u001b[0m\u001b[0mint\u001b[0m\u001b[1;33m(\u001b[0m\u001b[0mn\u001b[0m\u001b[1;33m)\u001b[0m\u001b[1;33m)\u001b[0m\u001b[1;33m\n",
       "\u001b[0m    \u001b[1;32mreturn\u001b[0m \u001b[0msequence\u001b[0m\u001b[1;33m\u001b[0m\u001b[1;33m\u001b[0m\u001b[0m\n",
       "\u001b[1;31mFile:\u001b[0m      c:\\users\\kd0nm\\anacondaprojects.copy04mar2020\\mycodes\\training\\jupyternotebooks\\collatz.py\n",
       "\u001b[1;31mType:\u001b[0m      function\n"
      ]
     },
     "metadata": {},
     "output_type": "display_data"
    }
   ],
   "source": [
    "Collatz.colSeq??"
   ]
  },
  {
   "cell_type": "code",
   "execution_count": 3,
   "id": "72c5ec5c-5ed6-48f0-b2cd-03b34eced277",
   "metadata": {},
   "outputs": [
    {
     "name": "stdout",
     "output_type": "stream",
     "text": [
      "[35, 106, 53, 160, 80, 40, 20, 10, 5, 16, 8, 4, 2, 1]\n"
     ]
    }
   ],
   "source": [
    "b = Collatz.colSeq(35)\n",
    "print(b)"
   ]
  },
  {
   "cell_type": "markdown",
   "id": "0ce93489-0c7e-486e-b7ff-27156d62a426",
   "metadata": {},
   "source": [
    "We can view the list of numbers for which we have already calculated a solution. When we calculate another collatz sequence, the list is updated."
   ]
  },
  {
   "cell_type": "code",
   "execution_count": 4,
   "id": "7e4a6c2e-8ea0-4b78-8a87-a2805bf8b9b3",
   "metadata": {},
   "outputs": [
    {
     "data": {
      "text/plain": [
       "[35, 106, 53, 160, 80, 40, 20, 10, 5, 16, 8, 4, 2]"
      ]
     },
     "execution_count": 4,
     "metadata": {},
     "output_type": "execute_result"
    }
   ],
   "source": [
    "Collatz.set_of_true"
   ]
  },
  {
   "cell_type": "code",
   "execution_count": 5,
   "id": "7fcd6a3b-4936-45fe-909c-6c5c30273367",
   "metadata": {},
   "outputs": [
    {
     "name": "stdout",
     "output_type": "stream",
     "text": [
      "[256, 128, 64, 32, 16]\n"
     ]
    }
   ],
   "source": [
    "c= Collatz.colSeq(256)\n",
    "print(c)"
   ]
  },
  {
   "cell_type": "code",
   "execution_count": 6,
   "id": "20c11a30-7da6-4500-a53a-cb0f723653b1",
   "metadata": {},
   "outputs": [
    {
     "data": {
      "text/plain": [
       "[35, 106, 53, 160, 80, 40, 20, 10, 5, 16, 8, 4, 2, 256, 128, 64, 32]"
      ]
     },
     "execution_count": 6,
     "metadata": {},
     "output_type": "execute_result"
    }
   ],
   "source": [
    "Collatz.set_of_true"
   ]
  },
  {
   "cell_type": "code",
   "execution_count": 9,
   "id": "9886f46d-3077-4927-8328-cde602a6bfe3",
   "metadata": {},
   "outputs": [
    {
     "data": {
      "text/plain": [
       "[256, 160, 128, 106, 80, 64, 53, 40, 35, 32, 20, 16, 10, 8, 5, 4, 2]"
      ]
     },
     "execution_count": 9,
     "metadata": {},
     "output_type": "execute_result"
    }
   ],
   "source": [
    "Collatz.set_of_true.sort(reverse=True)\n",
    "Collatz.set_of_true"
   ]
  },
  {
   "cell_type": "markdown",
   "id": "739b07e9-ef91-4d81-bc9d-09ba7f37a031",
   "metadata": {},
   "source": [
    "This seems to work well enough, but the output is not very nice to look at. For example, it would appear that 160 is in the same sequence as 256, which it is not. It would be better to see a directed graph of the outputs. So, lets try importing a library for handling directed graphs; altgraph"
   ]
  },
  {
   "cell_type": "code",
   "execution_count": 10,
   "id": "0e647793-a287-4b3c-8e41-c32e037d71a3",
   "metadata": {},
   "outputs": [],
   "source": [
    "import altgraph"
   ]
  },
  {
   "cell_type": "code",
   "execution_count": 11,
   "id": "0f7adc29-8329-430f-bade-5d3d9b1d9630",
   "metadata": {},
   "outputs": [
    {
     "data": {
      "text/plain": [
       "\u001b[1;31mType:\u001b[0m        module\n",
       "\u001b[1;31mString form:\u001b[0m <module 'altgraph' from 'C:\\\\Users\\\\kd0nm\\\\anaconda3\\\\envs\\\\Binnis\\\\lib\\\\site-packages\\\\altgraph\\\\__init__.py'>\n",
       "\u001b[1;31mFile:\u001b[0m        c:\\users\\kd0nm\\anaconda3\\envs\\binnis\\lib\\site-packages\\altgraph\\__init__.py\n",
       "\u001b[1;31mDocstring:\u001b[0m  \n",
       "altgraph - a python graph library\n",
       "=================================\n",
       "\n",
       "altgraph is a fork of `graphlib <http://pygraphlib.sourceforge.net>`_ tailored\n",
       "to use newer Python 2.3+ features, including additional support used by the\n",
       "py2app suite (modulegraph and macholib, specifically).\n",
       "\n",
       "altgraph is a python based graph (network) representation and manipulation\n",
       "package.  It has started out as an extension to the\n",
       "`graph_lib module\n",
       "<http://www.ece.arizona.edu/~denny/python_nest/graph_lib_1.0.1.html>`_\n",
       "written by Nathan Denny it has been significantly optimized and expanded.\n",
       "\n",
       "The :class:`altgraph.Graph.Graph` class is loosely modeled after the\n",
       "`LEDA <http://www.algorithmic-solutions.com/enleda.htm>`_\n",
       "(Library of Efficient Datatypes) representation. The library\n",
       "includes methods for constructing graphs, BFS and DFS traversals,\n",
       "topological sort, finding connected components, shortest paths as well as a\n",
       "number graph statistics functions. The library can also visualize graphs\n",
       "via `graphviz <http://www.research.att.com/sw/tools/graphviz/>`_.\n",
       "\n",
       "The package contains the following modules:\n",
       "\n",
       "    -  the :py:mod:`altgraph.Graph` module contains the\n",
       "       :class:`~altgraph.Graph.Graph` class that stores the graph data\n",
       "\n",
       "    -  the :py:mod:`altgraph.GraphAlgo` module implements graph algorithms\n",
       "       operating on graphs (:py:class:`~altgraph.Graph.Graph`} instances)\n",
       "\n",
       "    -  the :py:mod:`altgraph.GraphStat` module contains functions for\n",
       "       computing statistical measures on graphs\n",
       "\n",
       "    -  the :py:mod:`altgraph.GraphUtil` module contains functions for\n",
       "       generating, reading and saving graphs\n",
       "\n",
       "    -  the :py:mod:`altgraph.Dot` module  contains functions for displaying\n",
       "       graphs via `graphviz <http://www.research.att.com/sw/tools/graphviz/>`_\n",
       "\n",
       "    -  the :py:mod:`altgraph.ObjectGraph` module implements a graph of\n",
       "       objects with a unique identifier\n",
       "\n",
       "Installation\n",
       "------------\n",
       "\n",
       "Download and unpack the archive then type::\n",
       "\n",
       "    python setup.py install\n",
       "\n",
       "This will install the library in the default location. For instructions on\n",
       "how to customize the install procedure read the output of::\n",
       "\n",
       "    python setup.py --help install\n",
       "\n",
       "To verify that the code works run the test suite::\n",
       "\n",
       "    python setup.py test\n",
       "\n",
       "Example usage\n",
       "-------------\n",
       "\n",
       "Lets assume that we want to analyze the graph below (links to the full picture)\n",
       "GRAPH_IMG.  Our script then might look the following way::\n",
       "\n",
       "    from altgraph import Graph, GraphAlgo, Dot\n",
       "\n",
       "    # these are the edges\n",
       "    edges = [ (1,2), (2,4), (1,3), (2,4), (3,4), (4,5), (6,5),\n",
       "        (6,14), (14,15), (6, 15),  (5,7), (7, 8), (7,13), (12,8),\n",
       "        (8,13), (11,12), (11,9), (13,11), (9,13), (13,10) ]\n",
       "\n",
       "    # creates the graph\n",
       "    graph = Graph.Graph()\n",
       "    for head, tail in edges:\n",
       "        graph.add_edge(head, tail)\n",
       "\n",
       "    # do a forward bfs from 1 at most to 20\n",
       "    print(graph.forw_bfs(1))\n",
       "\n",
       "This will print the nodes in some breadth first order::\n",
       "\n",
       "    [1, 2, 3, 4, 5, 7, 8, 13, 11, 10, 12, 9]\n",
       "\n",
       "If we wanted to get the hop-distance from node 1 to node 8\n",
       "we coud write::\n",
       "\n",
       "    print(graph.get_hops(1, 8))\n",
       "\n",
       "This will print the following::\n",
       "\n",
       "    [(1, 0), (2, 1), (3, 1), (4, 2), (5, 3), (7, 4), (8, 5)]\n",
       "\n",
       "Node 1 is at 0 hops since it is the starting node, nodes 2,3 are 1 hop away ...\n",
       "node 8 is 5 hops away. To find the shortest distance between two nodes you\n",
       "can use::\n",
       "\n",
       "    print(GraphAlgo.shortest_path(graph, 1, 12))\n",
       "\n",
       "It will print the nodes on one (if there are more) the shortest paths::\n",
       "\n",
       "    [1, 2, 4, 5, 7, 13, 11, 12]\n",
       "\n",
       "To display the graph we can use the GraphViz backend::\n",
       "\n",
       "    dot = Dot.Dot(graph)\n",
       "\n",
       "    # display the graph on the monitor\n",
       "    dot.display()\n",
       "\n",
       "    # save it in an image file\n",
       "    dot.save_img(file_name='graph', file_type='gif')\n",
       "\n",
       "\n",
       "\n",
       "..\n",
       "  @author: U{Istvan Albert<http://www.personal.psu.edu/staff/i/u/iua1/>}\n",
       "\n",
       "  @license:  MIT License\n",
       "\n",
       "  Copyright (c) 2004 Istvan Albert unless otherwise noted.\n",
       "\n",
       "  Permission is hereby granted, free of charge, to any person obtaining a copy\n",
       "  of this software and associated documentation files (the \"Software\"), to\n",
       "  deal in the Software without restriction, including without limitation the\n",
       "  rights to use, copy, modify, merge, publish, distribute, sublicense,\n",
       "  and/or sell copies of the Software, and to permit persons to whom the\n",
       "  Software is furnished to do so.\n",
       "\n",
       "  THE SOFTWARE IS PROVIDED \"AS IS\", WITHOUT WARRANTY OF ANY KIND, EXPRESS OR\n",
       "  IMPLIED, INCLUDING BUT NOT LIMITED TO THE WARRANTIES OF MERCHANTABILITY,\n",
       "  FITNESS FOR A PARTICULAR PURPOSE AND NONINFRINGEMENT. IN NO EVENT SHALL THE\n",
       "  AUTHORS OR COPYRIGHT HOLDERS BE LIABLE FOR ANY CLAIM, DAMAGES OR OTHER\n",
       "  LIABILITY, WHETHER IN AN ACTION OF CONTRACT, TORT OR OTHERWISE, ARISING\n",
       "  FROM, OUT OF OR IN CONNECTION WITH THE SOFTWARE OR THE USE OR OTHER DEALINGS\n",
       "  IN THE SOFTWARE.\n",
       "  @requires: Python 2.3 or higher\n",
       "\n",
       "  @newfield contributor: Contributors:\n",
       "  @contributor: U{Reka Albert <http://www.phys.psu.edu/~ralbert/>}\n"
      ]
     },
     "metadata": {},
     "output_type": "display_data"
    }
   ],
   "source": [
    "altgraph?"
   ]
  },
  {
   "cell_type": "code",
   "execution_count": null,
   "id": "0c307de1-6297-437e-a070-e40987e96cf3",
   "metadata": {},
   "outputs": [],
   "source": []
  }
 ],
 "metadata": {
  "kernelspec": {
   "display_name": "Python 3",
   "language": "python",
   "name": "python3"
  },
  "language_info": {
   "codemirror_mode": {
    "name": "ipython",
    "version": 3
   },
   "file_extension": ".py",
   "mimetype": "text/x-python",
   "name": "python",
   "nbconvert_exporter": "python",
   "pygments_lexer": "ipython3",
   "version": "3.8.10"
  }
 },
 "nbformat": 4,
 "nbformat_minor": 5
}
